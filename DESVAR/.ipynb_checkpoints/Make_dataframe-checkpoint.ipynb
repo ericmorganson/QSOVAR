{
 "cells": [
  {
   "cell_type": "code",
   "execution_count": 5,
   "metadata": {},
   "outputs": [],
   "source": [
    "from os import listdir\n",
    "from os.path import isfile, join\n",
    "import pandas as pd\n",
    "from astropy.io import fits\n",
    "from astropy.table import Table\n",
    "\n",
    "txtpath = \"scratch_cc\"\n",
    "onlyfiles = [f for f in listdir(txtpath) if isfile(join(txtpath, f))]\n",
    "#allandsingbandfiles = [f for f in onlyfiles if \"all_and_sing\" in f]\n",
    "#allbandfiles = [f for f in allandsingbandfiles if \"all_band\" in f]\n",
    "#allc1files = [f for f in allbandfiles if \"mu_obs_len\" in f]\n",
    "#print(allbandfiles)"
   ]
  },
  {
   "cell_type": "code",
   "execution_count": 3,
   "metadata": {
    "scrolled": true
   },
   "outputs": [
    {
     "name": "stdout",
     "output_type": "stream",
     "text": [
      "(224661, 7)\n"
     ]
    }
   ],
   "source": [
    "data = pd.DataFrame()\n",
    "pd.set_option('display.max_rows', None)\n",
    "col_allband = [\"band\", \"fits\", \"object\", \"Tau\", \"V\", \"Num_Obs\", \"Mu_Bright\"] #maybe add coordinates from fits.\n",
    "\n",
    "for f in onlyfiles:\n",
    "    tmp = pd.read_csv(txtpath+'/'+f, names=col_allband, skiprows=1, delimiter=\"\\t\")\n",
    "    #print(tmp)\n",
    "\n",
    "    data = pd.concat([data,tmp],axis=0)\n",
    "data = data.sort_values(by=['fits', 'object'])\n",
    "\n",
    "print(data.shape)\n",
    "#print(data)\n",
    "data.to_csv(\"all_and_sing_df_all.csv\")"
   ]
  },
  {
   "cell_type": "code",
   "execution_count": null,
   "metadata": {},
   "outputs": [],
   "source": []
  }
 ],
 "metadata": {
  "kernelspec": {
   "display_name": "Python 3",
   "language": "python",
   "name": "python3"
  },
  "language_info": {
   "codemirror_mode": {
    "name": "ipython",
    "version": 3
   },
   "file_extension": ".py",
   "mimetype": "text/x-python",
   "name": "python",
   "nbconvert_exporter": "python",
   "pygments_lexer": "ipython3",
   "version": "3.7.4"
  }
 },
 "nbformat": 4,
 "nbformat_minor": 2
}
