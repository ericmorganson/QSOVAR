{
 "cells": [
  {
   "cell_type": "code",
   "execution_count": 31,
   "metadata": {},
   "outputs": [
    {
     "name": "stdout",
     "output_type": "stream",
     "text": [
      "['/home/sam/Documents/Morganson_research/QSOVAR/DESVAR/all_obj_mu_band_objId_obs_x3.csv', '/home/sam/Documents/Morganson_research/QSOVAR/DESVAR/all_obj_mu_band_objId_obs_s2.csv', '/home/sam/Documents/Morganson_research/QSOVAR/DESVAR/all_obj_mu_band_objId_obs_c3.csv', '/home/sam/Documents/Morganson_research/QSOVAR/DESVAR/all_obj_mu_band_objId_obs.csv', '/home/sam/Documents/Morganson_research/QSOVAR/DESVAR/all_obj_mu_band_objId_obs_e1.csv', '/home/sam/Documents/Morganson_research/QSOVAR/DESVAR/all_obj_mu_band_objId_obs_x2.csv', '/home/sam/Documents/Morganson_research/QSOVAR/DESVAR/all_obj_mu_band_objId_obs_x1.csv', '/home/sam/Documents/Morganson_research/QSOVAR/DESVAR/all_obj_mu_band_objId_obs_e2.csv', '/home/sam/Documents/Morganson_research/QSOVAR/DESVAR/all_obj_mu_band_objId_obs_c2.csv', '/home/sam/Documents/Morganson_research/QSOVAR/DESVAR/all_obj_mu_band_objId_obs_s1.csv']\n",
      "Resultant CSV after joining all CSV files at a particular location...\n",
      "        COADD_OBJECT_ID           Mu_Bright Num_Obs band fits  object\n",
      "0            1280755171  24.124101523297863       7    g   X3       0\n",
      "1            1280755171  22.407134175093404       4    r   X3       0\n",
      "2            1280755171   21.59803218557646      23    i   X3       0\n",
      "3            1280755171   21.20973982674225      69    z   X3       0\n",
      "4            1280755171  22.334751927677495     103  All   X3       0\n",
      "...                 ...                 ...     ...  ...  ...     ...\n",
      "6658834      1342105401   23.34753310960021      25    g   S1  103902\n",
      "6658835      1342105401  22.897388436611557      31    r   S1  103902\n",
      "6658836      1342105401   22.80076566454394      45    i   S1  103902\n",
      "6658837      1342105401  22.635426975774887      47    z   S1  103902\n",
      "6658838      1342105401   22.92027854663265     148  All   S1  103902\n",
      "\n",
      "[6658839 rows x 6 columns]\n"
     ]
    }
   ],
   "source": [
    "import pandas as pd\n",
    "import glob\n",
    "import os\n",
    "import pandasql as ps\n",
    "\n",
    "# setting the path for joining multiple files\n",
    "files = os.path.join(\"/home/sam/Documents/Morganson_research/QSOVAR/DESVAR/\", \"all_obj_mu_band_objId_obs*.csv\")\n",
    "\n",
    "# list of merged files returned\n",
    "files = glob.glob(files)\n",
    "print(files)\n",
    "\n",
    "print(\"Resultant CSV after joining all CSV files at a particular location...\");\n",
    "\n",
    "# joining files with concat and read_csv\n",
    "df = pd.concat(map(pd.read_csv, files), ignore_index=True)\n",
    "\n",
    "df = df.drop(df.columns[[0]], axis=1)\n",
    "\n",
    "for column in df:\n",
    "    df[column] = df[column].map(lambda x: x.lstrip(\"['\").rstrip(\"']\"))\n",
    "\n",
    "print(df)"
   ]
  },
  {
   "cell_type": "code",
   "execution_count": 29,
   "metadata": {},
   "outputs": [
    {
     "name": "stdout",
     "output_type": "stream",
     "text": [
      "       Unnamed: 0 band fits  object  COADD_OBJECT_ID         RA        Dec  \\\n",
      "0               0    z   C1      23       1398942991  53.816479 -28.087091   \n",
      "1               0    i   C1      92       1398942810  53.945625 -28.083435   \n",
      "2               0    g   C1     112       1398942896  54.011875 -28.082512   \n",
      "3               0    z   C1     138       1398942609  53.882717 -28.081196   \n",
      "4               0    z   C1     144       1404633536  54.570648 -28.080921   \n",
      "...           ...  ...  ...     ...              ...        ...        ...   \n",
      "94162           0    r   X3  209298       1277278417  36.732903  -3.625552   \n",
      "94163           0    r   X3  209301       1277278240  36.691177  -3.625491   \n",
      "94164           0    z   X3  209305       1277278290  36.866161  -3.625472   \n",
      "94165           0    g   X3  209306       1277278402  36.758614  -3.625450   \n",
      "94166           0    g   X3  209318       1272934605  36.019924  -3.625252   \n",
      "\n",
      "            Tau         V  Num_Obs  Mu_Bright  \n",
      "0      0.897972 -2.319796      178  17.269523  \n",
      "1      1.148313 -1.241843       11  19.291334  \n",
      "2      3.999284 -2.613931       10  24.475279  \n",
      "3      0.000031 -2.148228      290  18.826763  \n",
      "4      0.000028 -1.638124      282  17.173931  \n",
      "...         ...       ...      ...        ...  \n",
      "94162  2.946929 -0.029811       22  24.478328  \n",
      "94163  1.365416 -1.893446       83  20.194734  \n",
      "94164  0.314160 -1.516160      118  19.250811  \n",
      "94165  2.225529 -0.706615        9  24.191448  \n",
      "94166  2.442750 -0.181761        5  24.290726  \n",
      "\n",
      "[94167 rows x 11 columns]\n"
     ]
    }
   ],
   "source": [
    "full_data = pd.read_csv(\"all_and_sing_df_all_RA_DEC_ID_no_optimal_new.csv\")\n",
    "\n",
    "for column in [\"object\", 'Num_Obs']:\n",
    "    full_data[column] = full_data[column].map(lambda x: int(x))\n",
    "    \n",
    "full_data[\"band\"] = full_data[\"band\"].str.strip()\n",
    "\n",
    "print(full_data)"
   ]
  },
  {
   "cell_type": "code",
   "execution_count": null,
   "metadata": {},
   "outputs": [],
   "source": [
    "#df is ALL of the rows of data, including the variables\n",
    "#full_data is JUST the variable objects\n",
    "#non_var_df is a dataframe of all of the nonvariable objects\n",
    "\n",
    "q1 = \"\"\"SELECT * FROM df WHERE COADD_OBJECT_ID NOT IN (SELECT COADD_OBJECT_ID FROM full_data)\"\"\"\n",
    "\n",
    "non_var_df = ps.sqldf(q1, locals())\n",
    "print(non_var_df)"
   ]
  },
  {
   "cell_type": "code",
   "execution_count": null,
   "metadata": {},
   "outputs": [],
   "source": []
  }
 ],
 "metadata": {
  "kernelspec": {
   "display_name": "Python 3",
   "language": "python",
   "name": "python3"
  },
  "language_info": {
   "codemirror_mode": {
    "name": "ipython",
    "version": 3
   },
   "file_extension": ".py",
   "mimetype": "text/x-python",
   "name": "python",
   "nbconvert_exporter": "python",
   "pygments_lexer": "ipython3",
   "version": "3.7.4"
  }
 },
 "nbformat": 4,
 "nbformat_minor": 2
}
