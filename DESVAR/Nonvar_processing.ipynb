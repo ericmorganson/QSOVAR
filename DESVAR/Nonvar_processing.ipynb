{
 "cells": [
  {
   "cell_type": "code",
   "execution_count": 2,
   "metadata": {},
   "outputs": [
    {
     "name": "stdout",
     "output_type": "stream",
     "text": [
      "['/home/sam/Documents/Morganson_research/QSOVAR/DESVAR/all_obj_mu_band_objId_obs_x3.csv', '/home/sam/Documents/Morganson_research/QSOVAR/DESVAR/all_obj_mu_band_objId_obs_s2.csv', '/home/sam/Documents/Morganson_research/QSOVAR/DESVAR/all_obj_mu_band_objId_obs_c3.csv', '/home/sam/Documents/Morganson_research/QSOVAR/DESVAR/all_obj_mu_band_objId_obs.csv', '/home/sam/Documents/Morganson_research/QSOVAR/DESVAR/all_obj_mu_band_objId_obs_e1.csv', '/home/sam/Documents/Morganson_research/QSOVAR/DESVAR/all_obj_mu_band_objId_obs_x2.csv', '/home/sam/Documents/Morganson_research/QSOVAR/DESVAR/all_obj_mu_band_objId_obs_x1.csv', '/home/sam/Documents/Morganson_research/QSOVAR/DESVAR/all_obj_mu_band_objId_obs_e2.csv', '/home/sam/Documents/Morganson_research/QSOVAR/DESVAR/all_obj_mu_band_objId_obs_c2.csv', '/home/sam/Documents/Morganson_research/QSOVAR/DESVAR/all_obj_mu_band_objId_obs_s1.csv']\n",
      "Resultant CSV after joining all CSV files at a particular location...\n",
      "        COADD_OBJECT_ID           Mu_Bright Num_Obs band fits  object\n",
      "0            1280755171  24.124101523297863       7    g   X3       0\n",
      "1            1280755171  22.407134175093404       4    r   X3       0\n",
      "2            1280755171   21.59803218557646      23    i   X3       0\n",
      "3            1280755171   21.20973982674225      69    z   X3       0\n",
      "4            1280755171  22.334751927677495     103  All   X3       0\n",
      "...                 ...                 ...     ...  ...  ...     ...\n",
      "6658834      1342105401   23.34753310960021      25    g   S1  103902\n",
      "6658835      1342105401  22.897388436611557      31    r   S1  103902\n",
      "6658836      1342105401   22.80076566454394      45    i   S1  103902\n",
      "6658837      1342105401  22.635426975774887      47    z   S1  103902\n",
      "6658838      1342105401   22.92027854663265     148  All   S1  103902\n",
      "\n",
      "[6658839 rows x 6 columns]\n"
     ]
    }
   ],
   "source": [
    "import pandas as pd\n",
    "import glob\n",
    "import os\n",
    "import pandasql as ps\n",
    "\n",
    "# setting the path for joining multiple files\n",
    "files = os.path.join(\"/home/sam/Documents/Morganson_research/QSOVAR/DESVAR/\", \"all_obj_mu_band_objId_obs*.csv\")\n",
    "\n",
    "# list of merged files returned\n",
    "files = glob.glob(files)\n",
    "print(files)\n",
    "\n",
    "print(\"Resultant CSV after joining all CSV files at a particular location...\");\n",
    "\n",
    "# joining files with concat and read_csv\n",
    "df = pd.concat(map(pd.read_csv, files), ignore_index=True)\n",
    "\n",
    "df = df.drop(df.columns[[0]], axis=1)\n",
    "\n",
    "for column in df:\n",
    "    df[column] = df[column].map(lambda x: x.lstrip(\"['\").rstrip(\"']\"))\n",
    "\n",
    "print(df)"
   ]
  },
  {
   "cell_type": "code",
   "execution_count": 3,
   "metadata": {},
   "outputs": [
    {
     "name": "stderr",
     "output_type": "stream",
     "text": [
      "/home/sam/anaconda3/lib/python3.7/site-packages/IPython/core/interactiveshell.py:3058: DtypeWarning: Columns (10) have mixed types. Specify dtype option on import or set low_memory=False.\n",
      "  interactivity=interactivity, compiler=compiler, result=result)\n"
     ]
    },
    {
     "name": "stdout",
     "output_type": "stream",
     "text": [
      "['All' 'z' 'i' 'g' 'r' '24.100855365395546g']\n"
     ]
    }
   ],
   "source": [
    "full_data = pd.read_csv(\"all_and_sing_df_all_RA_DEC_ID_no_optimal_new_mod.csv\")\n",
    "\n",
    "for column in [\"object\", 'Num_Obs']:\n",
    "    full_data[column] = full_data[column].map(lambda x: int(x))\n",
    "    \n",
    "full_data[\"band\"] = full_data[\"band\"].str.strip()\n",
    "\n",
    "\n",
    "\n",
    "\n",
    "print(full_data.band.unique())"
   ]
  },
  {
   "cell_type": "code",
   "execution_count": null,
   "metadata": {},
   "outputs": [],
   "source": []
  },
  {
   "cell_type": "code",
   "execution_count": 4,
   "metadata": {},
   "outputs": [
    {
     "name": "stdout",
     "output_type": "stream",
     "text": [
      "        COADD_OBJECT_ID           Mu_Bright Num_Obs band fits  object\n",
      "0            1280755171  24.124101523297863       7    g   X3       0\n",
      "1            1280755171  22.407134175093404       4    r   X3       0\n",
      "2            1280755171   21.59803218557646      23    i   X3       0\n",
      "3            1280755171   21.20973982674225      69    z   X3       0\n",
      "4            1280755171  22.334751927677495     103  All   X3       0\n",
      "...                 ...                 ...     ...  ...  ...     ...\n",
      "6183892      1342105401   23.34753310960021      25    g   S1  103902\n",
      "6183893      1342105401  22.897388436611557      31    r   S1  103902\n",
      "6183894      1342105401   22.80076566454394      45    i   S1  103902\n",
      "6183895      1342105401  22.635426975774887      47    z   S1  103902\n",
      "6183896      1342105401   22.92027854663265     148  All   S1  103902\n",
      "\n",
      "[6183897 rows x 6 columns]\n"
     ]
    }
   ],
   "source": [
    "#df is ALL of the rows of data, including the variables\n",
    "#full_data is JUST the variable objects\n",
    "#non_var_df is a dataframe of all of the nonvariable objects\n",
    "\n",
    "q1 = \"\"\"SELECT * FROM df WHERE COADD_OBJECT_ID NOT IN (SELECT COADD_OBJECT_ID FROM full_data)\"\"\"\n",
    "\n",
    "non_var_df = ps.sqldf(q1, locals())\n",
    "print(non_var_df)"
   ]
  },
  {
   "cell_type": "code",
   "execution_count": 5,
   "metadata": {},
   "outputs": [],
   "source": [
    "non_var_df.to_csv(\"all_non_var_df.csv\")"
   ]
  },
  {
   "cell_type": "code",
   "execution_count": null,
   "metadata": {},
   "outputs": [],
   "source": []
  }
 ],
 "metadata": {
  "kernelspec": {
   "display_name": "Python 3",
   "language": "python",
   "name": "python3"
  },
  "language_info": {
   "codemirror_mode": {
    "name": "ipython",
    "version": 3
   },
   "file_extension": ".py",
   "mimetype": "text/x-python",
   "name": "python",
   "nbconvert_exporter": "python",
   "pygments_lexer": "ipython3",
   "version": "3.7.4"
  }
 },
 "nbformat": 4,
 "nbformat_minor": 2
}
