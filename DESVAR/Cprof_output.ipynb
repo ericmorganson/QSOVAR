{
 "cells": [
  {
   "cell_type": "code",
   "execution_count": 11,
   "metadata": {},
   "outputs": [
    {
     "name": "stdout",
     "output_type": "stream",
     "text": [
      "Thu Sep 26 12:17:56 2019    cprof_newprob.txt\n",
      "\n",
      "         8096678 function calls (8015176 primitive calls) in 162.793 seconds\n",
      "\n",
      "   Ordered by: internal time\n",
      "   List reduced from 6123 to 10 due to restriction <10>\n",
      "\n",
      "   ncalls  tottime  percall  cumtime  percall filename:lineno(function)\n",
      "  1324944   52.839    0.000   52.839    0.000 ClusterEmcee2_newprob.py:38(evolvestate)\n",
      "  1343346   31.363    0.000   31.363    0.000 ClusterEmcee2_newprob.py:45(weightedmean)\n",
      "  1343346   22.038    0.000   22.038    0.000 ClusterEmcee2_newprob.py:29(lognorm)\n",
      "    18402   21.625    0.001  127.876    0.007 ClusterEmcee2_newprob.py:78(lnlike)\n",
      "        4   21.579    5.395   22.158    5.539 {built-in method exec_}\n",
      "      933    0.893    0.001    0.893    0.001 {built-in method builtins.print}\n",
      "     8738    0.485    0.000    0.815    0.000 /home/sam/anaconda3/lib/python3.6/site-packages/numpy/lib/polynomial.py:664(polyval)\n",
      "      232    0.475    0.002    2.709    0.012 /home/sam/anaconda3/lib/python3.6/site-packages/scipy/optimize/optimize.py:406(_minimize_neldermead)\n",
      "       13    0.301    0.023    0.936    0.072 /home/sam/anaconda3/lib/python3.6/site-packages/pyparsing.py:3415(oneOf)\n",
      "    59378    0.238    0.000    0.239    0.000 {built-in method numpy.array}\n",
      "\n",
      "\n"
     ]
    },
    {
     "data": {
      "text/plain": [
       "<pstats.Stats at 0x7f2e1452bf60>"
      ]
     },
     "execution_count": 11,
     "metadata": {},
     "output_type": "execute_result"
    }
   ],
   "source": [
    "import pstats\n",
    "p = pstats.Stats('cprof_newprob.txt')\n",
    "\n",
    "p.sort_stats('time').print_stats(10)"
   ]
  },
  {
   "cell_type": "code",
   "execution_count": null,
   "metadata": {
    "collapsed": true
   },
   "outputs": [],
   "source": []
  }
 ],
 "metadata": {
  "kernelspec": {
   "display_name": "Python 3",
   "language": "python",
   "name": "python3"
  },
  "language_info": {
   "codemirror_mode": {
    "name": "ipython",
    "version": 3
   },
   "file_extension": ".py",
   "mimetype": "text/x-python",
   "name": "python",
   "nbconvert_exporter": "python",
   "pygments_lexer": "ipython3",
   "version": "3.6.1"
  }
 },
 "nbformat": 4,
 "nbformat_minor": 2
}
