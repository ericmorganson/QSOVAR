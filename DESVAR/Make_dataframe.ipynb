{
 "cells": [
  {
   "cell_type": "code",
   "execution_count": 45,
   "metadata": {},
   "outputs": [],
   "source": [
    "from os import listdir\n",
    "from os.path import isfile, join\n",
    "import pandas as pd\n",
    "\n",
    "txtpath = \"scratch_new\"\n",
    "onlyfiles = [f for f in listdir(txtpath) if isfile(join(txtpath, f))]\n",
    "allandsingbandfiles = [f for f in onlyfiles if \"all_and_sing\" in f]\n",
    "allbandfiles = [f for f in allandsingbandfiles if \"all_band\" in f]\n",
    "allc1files = [f for f in allbandfiles if \"mu_obs_len\" in f]\n",
    "#print(allbandfiles)"
   ]
  },
  {
   "cell_type": "code",
   "execution_count": 46,
   "metadata": {
    "scrolled": true
   },
   "outputs": [
    {
     "name": "stdout",
     "output_type": "stream",
     "text": [
      "(49, 7)\n",
      "   band fits  object       Tau         V  Num_Obs  Mu_Bright\n",
      "0  All    C1     126  2.909894 -2.299031      191  15.880421\n",
      "1     z   C1     126  1.331444 -2.044378       41  15.525883\n",
      "0  All    C1    3347  2.577150 -0.807033      392  21.923307\n",
      "1     g   C1    3347  2.319231 -0.679283       73  22.215656\n",
      "2     r   C1    3347  2.510421 -0.814439       76  21.754003\n",
      "3     i   C1    3347  2.388129 -0.830711       81  21.830383\n",
      "0  All    C1    9004  3.737003 -0.436011      397  21.224716\n",
      "1     g   C1    9004  3.725594 -0.311186       74  21.408844\n",
      "2     r   C1    9004  3.663217 -0.477847       76  21.360439\n",
      "3     i   C1    9004  3.542494 -0.653843       83  21.034439\n",
      "4     z   C1    9004  3.550005 -0.646088      164  21.095140\n",
      "0  All    C1   17999  2.731558 -0.644640      383  21.362238\n",
      "1     g   C1   17999  3.170783 -0.502260       69  21.641093\n",
      "2     r   C1   17999  3.427444 -0.552967       71  21.476006\n",
      "3     i   C1   17999  2.384070 -0.755856       81  21.139778\n",
      "4     z   C1   17999  2.140094 -0.756870      162  21.192074\n",
      "0  All    C1   47662  3.208890 -0.625729      394  21.863193\n",
      "1     g   C1   47662  3.007972 -0.615767       71  22.321174\n",
      "2     r   C1   47662  2.917976 -0.691564       76  22.081934\n",
      "3     i   C1   47662  3.193751 -0.745523       82  21.707150\n",
      "0  All    C1   60141  3.199100 -0.617295      396  21.670022\n",
      "1     g   C1   60141  3.075312 -0.527437       74  21.963420\n",
      "2     r   C1   60141  2.959791 -0.672441       75  21.828904\n",
      "3     i   C1   60141  3.505624 -0.636317       82  21.453125\n",
      "4     z   C1   60141  3.389046 -0.660739      165  21.434637\n",
      "0  All    C1   63815  3.491774 -0.297450      390  22.098267\n",
      "1     g   C1   63815  3.283337 -0.152478       72  22.473764\n",
      "2     r   C1   63815  3.418382 -0.295220       75  22.132232\n",
      "3     i   C1   63815  3.354881 -0.441935       82  21.884172\n",
      "4     z   C1   63815  2.991712 -0.553850      161  21.902900\n",
      "0  All    C1   64167  3.235310 -0.491946      394  21.531593\n",
      "1     g   C1   64167  2.999700 -0.504618       75  21.827289\n",
      "2     r   C1   64167  3.062928 -0.537237       75  21.708118\n",
      "3     i   C1   64167  3.392652 -0.540121       81  21.324881\n",
      "4     z   C1   64167  3.379636 -0.585785      163  21.266084\n",
      "0  All    C1   72126  3.222307 -0.543173      292  21.601918\n",
      "1     g   C1   72126  2.678522 -0.646200       58  21.718938\n",
      "2     r   C1   72126  2.941195 -0.564760       54  21.583049\n",
      "3     i   C1   72126  3.211906 -0.650426       58  21.591755\n",
      "4     z   C1   72126  3.097748 -0.722884      122  21.513930\n",
      "0  All    C1   74440  3.666486 -0.297975      301  22.313675\n",
      "1     g   C1   74440  3.426725 -0.312791       64  22.520232\n",
      "2     r   C1   74440  3.494826 -0.311493       71  22.251687\n",
      "3     i   C1   74440  3.666042 -0.253342       59  22.312123\n",
      "0  All    C1   75375  3.432746 -0.622491      402  20.789630\n",
      "1     g   C1   75375  3.309006 -0.507067       75  20.911392\n",
      "2     r   C1   75375  3.346699 -0.618059       76  20.852906\n",
      "3     i   C1   75375  3.422613 -0.713203       84  20.683244\n",
      "4     z   C1   75375  3.331470 -0.741674      167  20.710979\n"
     ]
    }
   ],
   "source": [
    "data = pd.DataFrame()\n",
    "pd.set_option('display.max_rows', None)\n",
    "col_allband = [\"band\", \"fits\", \"object\", \"Tau\", \"V\", \"Num_Obs\", \"Mu_Bright\"]\n",
    "\n",
    "for f in allc1files:\n",
    "    tmp = pd.read_csv(txtpath+'/'+f, names=col_allband, skiprows=1, delimiter=\"\\t\")\n",
    "    #print(tmp)\n",
    "\n",
    "    data = pd.concat([data,tmp],axis=0)\n",
    "data = data.sort_values(by=['fits', 'object'])\n",
    "\n",
    "print(data.shape)\n",
    "print(data)\n",
    "data.to_csv(\"all_and_sing_df.csv\")"
   ]
  },
  {
   "cell_type": "code",
   "execution_count": null,
   "metadata": {},
   "outputs": [],
   "source": []
  }
 ],
 "metadata": {
  "kernelspec": {
   "display_name": "Python 3",
   "language": "python",
   "name": "python3"
  },
  "language_info": {
   "codemirror_mode": {
    "name": "ipython",
    "version": 3
   },
   "file_extension": ".py",
   "mimetype": "text/x-python",
   "name": "python",
   "nbconvert_exporter": "python",
   "pygments_lexer": "ipython3",
   "version": "3.7.4"
  }
 },
 "nbformat": 4,
 "nbformat_minor": 2
}
