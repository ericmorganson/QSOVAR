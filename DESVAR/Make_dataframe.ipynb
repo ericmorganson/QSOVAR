{
 "cells": [
  {
   "cell_type": "code",
   "execution_count": 9,
   "metadata": {},
   "outputs": [
    {
     "name": "stdout",
     "output_type": "stream",
     "text": [
      "['5_C1_normal_all_band_linear_athena_2_var_crit.txt', '9_C1_normal_all_band_linear_athena_2_var_crit.txt', '16_C1_normal_all_band_linear_athena_2_var_crit.txt', '8_C1_normal_all_band_linear_athena_2_var_crit.txt', '18_C1_normal_all_band_linear_athena_2_var_crit.txt', '4_C1_normal_all_band_linear_athena_2_var_crit.txt', '15_C1_normal_all_band_linear_athena_2_var_crit.txt', '12_C1_normal_all_band_linear_athena_2_var_crit.txt', '6_C1_normal_all_band_linear_athena_2_var_crit.txt', '10_C1_normal_all_band_linear_athena_2_var_crit.txt', '0_C1_normal_all_band_linear_athena_2_var_crit.txt']\n"
     ]
    }
   ],
   "source": [
    "from os import listdir\n",
    "from os.path import isfile, join\n",
    "import pandas as pd\n",
    "\n",
    "txtpath = \"scratch_new\"\n",
    "onlyfiles = [f for f in listdir(txtpath) if isfile(join(txtpath, f))]\n",
    "allbandfiles = [f for f in onlyfiles if \"all_band\" in f]\n",
    "print(allbandfiles)"
   ]
  },
  {
   "cell_type": "code",
   "execution_count": 10,
   "metadata": {},
   "outputs": [
    {
     "name": "stdout",
     "output_type": "stream",
     "text": [
      "   fits  object   Tau_all     V_all\n",
      "0    C1       5  0.000135 -0.989922\n",
      "1    C1       9  0.000179 -0.602913\n",
      "2    C1      16  0.000136 -0.644386\n",
      "3    C1       8  0.000049  0.409672\n",
      "4    C1      18  0.499170 -0.764460\n",
      "5    C1       4  0.000044 -0.050693\n",
      "6    C1      15  0.000011  1.999988\n",
      "7    C1      12  0.000031 -0.230698\n",
      "8    C1       6  0.819809 -1.838116\n",
      "9    C1      10  0.000033  0.553342\n",
      "10   C1       0  0.632484 -0.892863\n"
     ]
    }
   ],
   "source": [
    "data = pd.DataFrame()\n",
    "col_allband = [\"fits\", \"object\", \"Tau_all\", \"V_all\"]\n",
    "\n",
    "for f in allbandfiles:\n",
    "    tmp = pd.read_csv(txtpath+'/'+f, names=col_allband, skiprows=1, delimiter=\"\\t\")\n",
    "\n",
    "    data = pd.concat([data,tmp],axis=0,ignore_index=True)\n",
    "    \n",
    "print(data)"
   ]
  },
  {
   "cell_type": "code",
   "execution_count": null,
   "metadata": {},
   "outputs": [],
   "source": []
  }
 ],
 "metadata": {
  "kernelspec": {
   "display_name": "Python 3",
   "language": "python",
   "name": "python3"
  },
  "language_info": {
   "codemirror_mode": {
    "name": "ipython",
    "version": 3
   },
   "file_extension": ".py",
   "mimetype": "text/x-python",
   "name": "python",
   "nbconvert_exporter": "python",
   "pygments_lexer": "ipython3",
   "version": "3.7.4"
  }
 },
 "nbformat": 4,
 "nbformat_minor": 2
}
